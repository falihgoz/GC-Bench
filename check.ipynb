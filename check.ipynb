{
 "cells": [
  {
   "cell_type": "code",
   "execution_count": 1,
   "metadata": {},
   "outputs": [
    {
     "name": "stderr",
     "output_type": "stream",
     "text": [
      "Downloading https://raw.githubusercontent.com/graphdml-uiuc-jlu/geom-gcn/master/new_data/cornell/out1_node_feature_label.txt\n",
      "Downloading https://raw.githubusercontent.com/graphdml-uiuc-jlu/geom-gcn/master/new_data/cornell/out1_graph_edges.txt\n",
      "Downloading https://raw.githubusercontent.com/graphdml-uiuc-jlu/geom-gcn/master/splits/cornell_split_0.6_0.2_0.npz\n",
      "Downloading https://raw.githubusercontent.com/graphdml-uiuc-jlu/geom-gcn/master/splits/cornell_split_0.6_0.2_1.npz\n",
      "Downloading https://raw.githubusercontent.com/graphdml-uiuc-jlu/geom-gcn/master/splits/cornell_split_0.6_0.2_2.npz\n",
      "Downloading https://raw.githubusercontent.com/graphdml-uiuc-jlu/geom-gcn/master/splits/cornell_split_0.6_0.2_3.npz\n",
      "Downloading https://raw.githubusercontent.com/graphdml-uiuc-jlu/geom-gcn/master/splits/cornell_split_0.6_0.2_4.npz\n",
      "Downloading https://raw.githubusercontent.com/graphdml-uiuc-jlu/geom-gcn/master/splits/cornell_split_0.6_0.2_5.npz\n",
      "Downloading https://raw.githubusercontent.com/graphdml-uiuc-jlu/geom-gcn/master/splits/cornell_split_0.6_0.2_6.npz\n",
      "Downloading https://raw.githubusercontent.com/graphdml-uiuc-jlu/geom-gcn/master/splits/cornell_split_0.6_0.2_7.npz\n",
      "Downloading https://raw.githubusercontent.com/graphdml-uiuc-jlu/geom-gcn/master/splits/cornell_split_0.6_0.2_8.npz\n",
      "Downloading https://raw.githubusercontent.com/graphdml-uiuc-jlu/geom-gcn/master/splits/cornell_split_0.6_0.2_9.npz\n",
      "Processing...\n",
      "Done!\n"
     ]
    },
    {
     "name": "stdout",
     "output_type": "stream",
     "text": [
      "size of adj_train: (87, 87)\n",
      "#edges in adj_train: 52.0\n",
      "FUll: Test set results: loss= 0.8075 accuracy= 0.7838\n"
     ]
    },
    {
     "name": "stderr",
     "output_type": "stream",
     "text": [
      "100%|██████████| 10/10 [00:55<00:00,  5.56s/it]"
     ]
    },
    {
     "name": "stdout",
     "output_type": "stream",
     "text": [
      "cornell-random-0.5:Mean accuracy: [0.6513513513513514, 0.025497246302855638]\n"
     ]
    },
    {
     "name": "stderr",
     "output_type": "stream",
     "text": [
      "\n"
     ]
    }
   ],
   "source": [
    "#Random\n",
    "%run coreset/train_coreset_induct.py --dataset cornell --method random --reduction_rate 0.5"
   ]
  },
  {
   "cell_type": "code",
   "execution_count": 2,
   "metadata": {},
   "outputs": [
    {
     "name": "stdout",
     "output_type": "stream",
     "text": [
      "size of adj_train: (87, 87)\n",
      "#edges in adj_train: 52.0\n",
      "FUll: Test set results: loss= 0.8075 accuracy= 0.7838\n"
     ]
    },
    {
     "name": "stderr",
     "output_type": "stream",
     "text": [
      "100%|██████████| 10/10 [00:58<00:00,  5.89s/it]"
     ]
    },
    {
     "name": "stdout",
     "output_type": "stream",
     "text": [
      "cornell-herding-0.5:Mean accuracy: [0.5972972972972974, 0.022450334764643493]\n"
     ]
    },
    {
     "name": "stderr",
     "output_type": "stream",
     "text": [
      "\n"
     ]
    }
   ],
   "source": [
    "# herding\n",
    "%run coreset/train_coreset_induct.py --dataset cornell --method herding --reduction_rate 0.5"
   ]
  },
  {
   "cell_type": "code",
   "execution_count": 3,
   "metadata": {},
   "outputs": [
    {
     "name": "stdout",
     "output_type": "stream",
     "text": [
      "size of adj_train: (87, 87)\n",
      "#edges in adj_train: 52.0\n",
      "FUll: Test set results: loss= 0.8075 accuracy= 0.7838\n"
     ]
    },
    {
     "name": "stderr",
     "output_type": "stream",
     "text": [
      "100%|██████████| 10/10 [00:59<00:00,  5.93s/it]"
     ]
    },
    {
     "name": "stdout",
     "output_type": "stream",
     "text": [
      "cornell-herding-0.5:Mean accuracy: [0.5972972972972974, 0.022450334764643493]\n"
     ]
    },
    {
     "name": "stderr",
     "output_type": "stream",
     "text": [
      "\n"
     ]
    }
   ],
   "source": [
    "# kcenter\n",
    "%run coreset/train_coreset_induct.py --dataset cornell --method herding --reduction_rate 0.5"
   ]
  },
  {
   "cell_type": "code",
   "execution_count": 5,
   "metadata": {},
   "outputs": [
    {
     "name": "stdout",
     "output_type": "stream",
     "text": [
      "Namespace(alpha=0, config='config.json', config_dir='configs', data_dir='data', dataset='cornell', debug=0, dropout=0.0, epochs=50, gpu_id=0, hidden=256, init_way='Random_real', inner=0, keep_ratio=1.0, label_rate=1, lr_adj=0.001, lr_feat=0.001, lr_model=0.01, method='SGDD', nlayers=2, normalize_features=True, one_step=0, outer=20, reduction_rate=0.5, save=1, save_dir='save', section='', seed=15, sgc=1, transductive=1, wandb=0, weight_decay=0.0)\n",
      "size of adj_train: (87, 87)\n",
      "#edges in adj_train: 52.0\n",
      "target reduced size:43\n",
      "actual reduced size:42\n",
      "adj_syn: (42, 42) feat_syn: torch.Size([42, 1703])\n",
      "{4: [0, 4], 1: [4, 8], 0: [8, 16], 2: [16, 24], 3: [24, 42]}\n",
      "Epoch 0, loss_avg: 12.129636698663235\n",
      "Train set results: loss= 1.4933 accuracy= 0.4713\n",
      "Test set results: loss= 1.3973 accuracy= 0.5135\n",
      "Train set results: loss= 1.4948 accuracy= 0.4713\n",
      "Test set results: loss= 1.3863 accuracy= 0.4865\n",
      "Train set results: loss= 1.4850 accuracy= 0.4713\n",
      "Test set results: loss= 1.3856 accuracy= 0.5135\n",
      "Train/Test Mean Accuracy: [array([0.47126437, 0.5045045 ]), array([0.        , 0.01274066])]\n",
      "Epoch 50, loss_avg: 0.1050010862930867\n"
     ]
    }
   ],
   "source": [
    "# SGDD\n",
    "%run DM/main.py --dataset cornell --epoch 50 --method SGDD --reduction_rate 0.5"
   ]
  },
  {
   "cell_type": "code",
   "execution_count": 6,
   "metadata": {},
   "outputs": [
    {
     "name": "stdout",
     "output_type": "stream",
     "text": [
      "Namespace(alpha=0, config='config.json', config_dir='configs', data_dir='data', dataset='cornell', debug=0, dropout=0.0, epochs=50, gpu_id=0, hidden=256, init_way='Random_real', inner=0, keep_ratio=1.0, label_rate=1, lr_adj=0.001, lr_feat=0.001, lr_model=0.01, method='GCDM', nlayers=2, normalize_features=True, one_step=0, outer=20, reduction_rate=0.5, save=1, save_dir='save', section='', seed=15, sgc=1, transductive=1, wandb=0, weight_decay=0.0)\n",
      "size of adj_train: (87, 87)\n",
      "#edges in adj_train: 52.0\n",
      "target reduced size:43\n",
      "actual reduced size:42\n",
      "adj_syn: (42, 42) feat_syn: torch.Size([42, 1703])\n",
      "{4: [0, 4], 1: [4, 8], 0: [8, 16], 2: [16, 24], 3: [24, 42]}\n",
      "Epoch 0, loss_avg: 12.129636698663235\n",
      "Train set results: loss= 1.4933 accuracy= 0.4713\n",
      "Test set results: loss= 1.3973 accuracy= 0.5135\n",
      "Train set results: loss= 1.4948 accuracy= 0.4713\n",
      "Test set results: loss= 1.3863 accuracy= 0.4865\n",
      "Train set results: loss= 1.4850 accuracy= 0.4713\n",
      "Test set results: loss= 1.3856 accuracy= 0.5135\n",
      "Train/Test Mean Accuracy: [array([0.47126437, 0.5045045 ]), array([0.        , 0.01274066])]\n",
      "Epoch 50, loss_avg: 0.1050010862930867\n"
     ]
    }
   ],
   "source": [
    "# GCDM\n",
    "%run DM/main.py --dataset cornell --epoch 50 --method GCDM --reduction_rate 0.5"
   ]
  },
  {
   "cell_type": "code",
   "execution_count": 7,
   "metadata": {},
   "outputs": [
    {
     "name": "stdout",
     "output_type": "stream",
     "text": [
      "Namespace(alpha=0, beta=0.5, circulation=20, config='config.json', config_dir='configs', coreset_method='kcenter', data_dir='data', dataset='cornell', debug=0, dis_metric='ours', dropout=0.0, early_stopping=0, ep_ratio=0.5, epochs=50, gpu_id=0, gt=0, hidden=256, init_way='Random', inner=0, keep_ratio=1.0, label_rate=1, lr_adj=0.01, lr_feat=0.0001, lr_model=0.0001, max_epochs_without_improvement=200, method='GCond', mining=0.001, mx_size=100, nlayers=2, normalize_features=True, one_step=0, opt_scale=0, option=0, outer=20, prune=0.05, reduction_rate=0.5, save=1, save_dir='save', section='', seed=15, sgc=1, sinkhorn_iter=10, transductive=1, wandb=0, wandb_id='', weight_decay=0.0)\n",
      "size of adj_train: (87, 87)\n",
      "#edges in adj_train: 52.0\n",
      "target reduced size:43\n",
      "actual reduced size:42\n",
      "adj_syn: (42, 42) feat_syn: torch.Size([42, 1703])\n",
      "{4: [0, 4], 1: [4, 8], 0: [8, 16], 2: [16, 24], 3: [24, 42]}\n",
      "Epoch 0, loss_avg: 0.17292670905590057\n",
      "Epoch 50, loss_avg: 0.010984921941203542\n",
      "Train set results: loss= 1.2509 accuracy= 0.5402\n",
      "Test set results: loss= 1.6321 accuracy= 0.4324\n",
      "Train set results: loss= 1.2355 accuracy= 0.5862\n",
      "Test set results: loss= 1.6837 accuracy= 0.4595\n",
      "Train set results: loss= 1.2268 accuracy= 0.6092\n",
      "Test set results: loss= 1.7133 accuracy= 0.4595\n",
      "Train/Test Mean Accuracy: [array([0.57854406, 0.45045045]), array([0.0286717 , 0.01274066])]\n"
     ]
    }
   ],
   "source": [
    "# GCond\n",
    "%run GM/main_nc.py --dataset cornell --epoch 50 --method GCond --reduction_rate 0.5"
   ]
  }
 ],
 "metadata": {
  "kernelspec": {
   "display_name": "gcbench",
   "language": "python",
   "name": "python3"
  },
  "language_info": {
   "codemirror_mode": {
    "name": "ipython",
    "version": 3
   },
   "file_extension": ".py",
   "mimetype": "text/x-python",
   "name": "python",
   "nbconvert_exporter": "python",
   "pygments_lexer": "ipython3",
   "version": "3.8.18"
  }
 },
 "nbformat": 4,
 "nbformat_minor": 2
}
